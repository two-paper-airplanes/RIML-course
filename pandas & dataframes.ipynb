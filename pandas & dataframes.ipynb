{
  "nbformat": 4,
  "nbformat_minor": 0,
  "metadata": {
    "kernelspec": {
      "display_name": "Python 3",
      "language": "python",
      "name": "python3"
    },
    "language_info": {
      "codemirror_mode": {
        "name": "ipython",
        "version": 3
      },
      "file_extension": ".py",
      "mimetype": "text/x-python",
      "name": "python",
      "nbconvert_exporter": "python",
      "pygments_lexer": "ipython3",
      "version": "3.8.3"
    },
    "colab": {
      "name": "02 Pandas and Dataframes.ipynb",
      "provenance": []
    }
  },
  "cells": [
    {
      "cell_type": "markdown",
      "metadata": {
        "id": "Pnp0wzI9d8iq"
      },
      "source": [
        "# Introduction to Pandas and Dataframes\n",
        "\n",
        "**Pandas** is a popular Python library, used for statistical analysis. We operate on **dataframes**, which you can think of as \"Excel sheets as variables in Python\"."
      ]
    },
    {
      "cell_type": "code",
      "metadata": {
        "id": "sLu0Yu3cd8iq"
      },
      "source": [
        "import pandas as pd # because we don't want to type 'pandas', only 'pd'. Think of all the hours of typing saved!"
      ],
      "execution_count": null,
      "outputs": []
    },
    {
      "cell_type": "markdown",
      "metadata": {
        "id": "IxBleFUsd8iu"
      },
      "source": [
        "## Importing data\n",
        "\n",
        "Now, let's import some data! We do this using the `read_csv` function within the `pd` library, so we call it with `pd.read_csv`. We tell it one thing: the location of the file to be read.\n",
        "\n",
        "Let's get started by importing a CSV file, which are plain-text versions of data values! You should have some sample CSVs on your machines already. Double check to make sure they're in the **same folder as this notebook**\n",
        "\n",
        "Some sample CSV files can be found in our server's `Resources` folder. To use them, you'll need to go to the homepage, download the CSV files from the `Resources` folder, and **re-upload to the same folder as this notebook**.\n",
        "\n",
        "Once you're ready, run the next cell to store all the data in a CSV in a single variable:"
      ]
    },
    {
      "cell_type": "code",
      "metadata": {
        "id": "_hgMA6Nfd8iu"
      },
      "source": [],
      "execution_count": null,
      "outputs": []
    },
    {
      "cell_type": "code",
      "metadata": {
        "id": "A_TV8cGOd8ix"
      },
      "source": [],
      "execution_count": null,
      "outputs": []
    },
    {
      "cell_type": "markdown",
      "metadata": {
        "id": "WBftrzP_d8i0"
      },
      "source": [
        "Printing is a bit unwieldy because of all the data. To read just a bit of info from the beginning, which lets you check if everything imported correctly, use `.head()`:"
      ]
    },
    {
      "cell_type": "code",
      "metadata": {
        "id": "80osTUh3d8i0"
      },
      "source": [],
      "execution_count": null,
      "outputs": []
    },
    {
      "cell_type": "markdown",
      "metadata": {
        "id": "J8yS9Bfsd8i2"
      },
      "source": [
        "Notice that the column headings are each of the columns in the CSV file, and the row headings are just numbers. This is OK, but not quite right--we want each row heading to be the country. In pandas terminology, we want to **set the country column as the index**. To do this, we re-import, and specify an `index_col`:"
      ]
    },
    {
      "cell_type": "code",
      "metadata": {
        "id": "AMuyl3APd8i3"
      },
      "source": [],
      "execution_count": null,
      "outputs": []
    },
    {
      "cell_type": "code",
      "metadata": {
        "id": "BmCitiW9d8i5"
      },
      "source": [],
      "execution_count": null,
      "outputs": []
    },
    {
      "cell_type": "markdown",
      "metadata": {
        "id": "iLSorS5Ed8i-"
      },
      "source": [
        "Now, the first two rows look a bit weird, but that's pandas' way of telling us that \"country\" is an index column. You can have multiple index columns, but that's beyond the scope of this class."
      ]
    },
    {
      "cell_type": "markdown",
      "metadata": {
        "id": "XZ_NlokGd8i_"
      },
      "source": [
        "<hr>"
      ]
    },
    {
      "cell_type": "markdown",
      "metadata": {
        "id": "PJ06bn_wd8i_"
      },
      "source": [
        "## Some DataFrame operations\n",
        "\n",
        "Some useful functions you can do with DataFrames below. Try them out, and see what they do!"
      ]
    },
    {
      "cell_type": "code",
      "metadata": {
        "scrolled": true,
        "id": "u_mAJ9gld8jA"
      },
      "source": [],
      "execution_count": null,
      "outputs": []
    },
    {
      "cell_type": "code",
      "metadata": {
        "id": "HRWurm6ld8jC"
      },
      "source": [],
      "execution_count": null,
      "outputs": []
    },
    {
      "cell_type": "code",
      "metadata": {
        "id": "vH6njKnwd8jE"
      },
      "source": [],
      "execution_count": null,
      "outputs": []
    },
    {
      "cell_type": "code",
      "metadata": {
        "id": "fHmmDJy0d8jG"
      },
      "source": [],
      "execution_count": null,
      "outputs": []
    },
    {
      "cell_type": "code",
      "metadata": {
        "id": "Jx3R--8ud8jI"
      },
      "source": [],
      "execution_count": null,
      "outputs": []
    },
    {
      "cell_type": "code",
      "metadata": {
        "id": "ljsIP2sbd8jK"
      },
      "source": [],
      "execution_count": null,
      "outputs": []
    },
    {
      "cell_type": "code",
      "metadata": {
        "id": "E-IWhsV9d8jM"
      },
      "source": [],
      "execution_count": null,
      "outputs": []
    },
    {
      "cell_type": "markdown",
      "metadata": {
        "id": "KyjhxmFld8jO"
      },
      "source": [
        "### <font color=\"red\">Exercise 1: Import and check</font>\n",
        "\n",
        "Import the data from the CSV files of the other continents, and check how many rows of data they each have."
      ]
    },
    {
      "cell_type": "code",
      "metadata": {
        "id": "CCHubmjvd8jO"
      },
      "source": [],
      "execution_count": null,
      "outputs": []
    },
    {
      "cell_type": "markdown",
      "metadata": {
        "id": "FBDIduT1d8jR"
      },
      "source": [
        "<hr>"
      ]
    },
    {
      "cell_type": "markdown",
      "metadata": {
        "id": "c3pqrP2id8jR"
      },
      "source": [
        "## Reading and filtering data in DataFrames\n",
        "\n",
        "There are many, many ways of accessing data in DataFrames. Here are a few ways--you can read up on other ways at the [Pandas DataFrame documentation](https://pandas.pydata.org/pandas-docs/stable/generated/pandas.DataFrame.html) page. It's worth clicking over just to see the variety of functions you can call to handle DataFrames!\n",
        "\n",
        "Here, though, we'll start with accessing information the way you'd expect, by row and column:"
      ]
    },
    {
      "cell_type": "code",
      "metadata": {
        "id": "D2BvdTSwd8jS"
      },
      "source": [],
      "execution_count": null,
      "outputs": []
    },
    {
      "cell_type": "code",
      "metadata": {
        "id": "L0qKDHzod8jU"
      },
      "source": [],
      "execution_count": null,
      "outputs": []
    },
    {
      "cell_type": "code",
      "metadata": {
        "id": "fFhER9Sdd8jW"
      },
      "source": [],
      "execution_count": null,
      "outputs": []
    },
    {
      "cell_type": "code",
      "metadata": {
        "id": "kL6-CGwad8jY"
      },
      "source": [],
      "execution_count": null,
      "outputs": []
    },
    {
      "cell_type": "code",
      "metadata": {
        "id": "c4XGbgLld8ja"
      },
      "source": [],
      "execution_count": null,
      "outputs": []
    },
    {
      "cell_type": "code",
      "metadata": {
        "id": "eAZhFYTvd8jc"
      },
      "source": [],
      "execution_count": null,
      "outputs": []
    },
    {
      "cell_type": "code",
      "metadata": {
        "id": "w2lU3sDvd8je"
      },
      "source": [],
      "execution_count": null,
      "outputs": []
    },
    {
      "cell_type": "code",
      "metadata": {
        "id": "YhB4xE9Td8jg"
      },
      "source": [],
      "execution_count": null,
      "outputs": []
    },
    {
      "cell_type": "code",
      "metadata": {
        "id": "qra2vsR7d8ji"
      },
      "source": [],
      "execution_count": null,
      "outputs": []
    },
    {
      "cell_type": "code",
      "metadata": {
        "id": "W-IrtBPpd8jl"
      },
      "source": [],
      "execution_count": null,
      "outputs": []
    },
    {
      "cell_type": "code",
      "metadata": {
        "id": "oBq4IYCad8jn"
      },
      "source": [],
      "execution_count": null,
      "outputs": []
    },
    {
      "cell_type": "code",
      "metadata": {
        "scrolled": true,
        "id": "Smobxv_Fd8jo"
      },
      "source": [],
      "execution_count": null,
      "outputs": []
    },
    {
      "cell_type": "code",
      "metadata": {
        "id": "1K_BmKsGd8jq"
      },
      "source": [],
      "execution_count": null,
      "outputs": []
    },
    {
      "cell_type": "code",
      "metadata": {
        "id": "l6-DdD7_d8jr"
      },
      "source": [],
      "execution_count": null,
      "outputs": []
    },
    {
      "cell_type": "code",
      "metadata": {
        "id": "5HH99Rh6d8ju"
      },
      "source": [],
      "execution_count": null,
      "outputs": []
    },
    {
      "cell_type": "markdown",
      "metadata": {
        "id": "fhRx_vi0d8jv"
      },
      "source": [
        "### <font color=\"red\">Exercise 2: Get data</font>\n",
        "\n",
        "Import the necessary CSV file, and set up a DataFrame for the GDP data of Canada, the United States, and Mexico for last decade. Your result should look like this:"
      ]
    },
    {
      "cell_type": "markdown",
      "metadata": {
        "id": "X3PQFjSpd8jw"
      },
      "source": [
        "|                 | gdpPercap_2002 | gdpPercap_2007 |\n",
        "| --------------- | -------------- | -------------- |\n",
        "| Canada          | 33328.96507    | 36319.23501    |\n",
        "| United States   | 39097.09955    | 42951.65309    |\n",
        "| Mexico          | 10742.44053    | 11977.57496    |"
      ]
    },
    {
      "cell_type": "code",
      "metadata": {
        "id": "HWhtm-w_d8jy"
      },
      "source": [],
      "execution_count": null,
      "outputs": []
    },
    {
      "cell_type": "markdown",
      "metadata": {
        "id": "PmrKgmrXd8j2"
      },
      "source": [
        "<hr>"
      ]
    },
    {
      "cell_type": "markdown",
      "metadata": {
        "id": "0dQVUdcHd8j3"
      },
      "source": [
        "## Filtering data\n",
        "\n",
        "Here's one of the most powerful features of DataFrames--being able to quickly work with large chunks of data. If you had to do this with for loops, it'd be a bit of pain to filter everything out item by item, not to mention having to reconstruct your lists one by one."
      ]
    },
    {
      "cell_type": "code",
      "metadata": {
        "id": "ekR687pwd8j3"
      },
      "source": [],
      "execution_count": null,
      "outputs": []
    },
    {
      "cell_type": "code",
      "metadata": {
        "id": "C6AAsv6Md8j5"
      },
      "source": [],
      "execution_count": null,
      "outputs": []
    },
    {
      "cell_type": "code",
      "metadata": {
        "id": "mellbQ63d8j6"
      },
      "source": [],
      "execution_count": null,
      "outputs": []
    },
    {
      "cell_type": "code",
      "metadata": {
        "id": "EGqapCnud8kB"
      },
      "source": [],
      "execution_count": null,
      "outputs": []
    },
    {
      "cell_type": "markdown",
      "metadata": {
        "id": "PEcd1XMEd8kD"
      },
      "source": [
        "## More Filtering\n",
        "\n",
        "We're leaving this here as independent study--take a look at what's being done, and try to figure it out, particularly when it comes to the two-condition criteria!"
      ]
    },
    {
      "cell_type": "code",
      "metadata": {
        "id": "9dGwz0dwd8kG"
      },
      "source": [
        "# Can you figure out what's being done in the below code?\n",
        "\n",
        "dataAll = pd.read_csv(\"gdp_pop_all.csv\", index_col = \"country\")\n",
        "#\n",
        "\n",
        "criteria = (dataAll[\"continent\"] == \"Asia\") & (dataAll[\"gdpPercap_2007\"] > 9000)\n",
        "#\n",
        "\n",
        "dataAll[\"gdp_2007\"] = dataAll[\"gdpPercap_2007\"] * dataAll[\"pop_2007\"]\n",
        "#\n",
        "\n",
        "dataAll[criteria][[\"gdpPercap_2007\",\"pop_2007\", \"gdp_2007\"]]\n",
        "#"
      ],
      "execution_count": null,
      "outputs": []
    },
    {
      "cell_type": "code",
      "metadata": {
        "id": "sFlCnClBd8kP"
      },
      "source": [],
      "execution_count": null,
      "outputs": []
    },
    {
      "cell_type": "markdown",
      "metadata": {
        "id": "ztcp-Rcnd8kQ"
      },
      "source": [
        "### <font color=\"red\">Exercise 3: African data and filtering</font>\n",
        "\n",
        "* Read data from the Africa file\n",
        "* Find the Per Capita GDP of Egypt in 2007\n",
        "* Find countries whose Per Capita GDP exceeded Egypt's that year.\n",
        "\n",
        "There should be 9 countries."
      ]
    },
    {
      "cell_type": "code",
      "metadata": {
        "id": "k72sSAPYd8kS"
      },
      "source": [],
      "execution_count": null,
      "outputs": []
    },
    {
      "cell_type": "code",
      "metadata": {
        "id": "xMTXt17Ed8kV"
      },
      "source": [],
      "execution_count": null,
      "outputs": []
    },
    {
      "cell_type": "markdown",
      "metadata": {
        "id": "UOYaJ9cWd8kW"
      },
      "source": [
        "### <font color=\"red\">Exercise 4: What does this do?</font>\n",
        "\n",
        "What do each of the lines in this chunk of code do? Run it, find out, and explain to someone sitting next to you."
      ]
    },
    {
      "cell_type": "code",
      "metadata": {
        "id": "iT4QoXO0d8kW"
      },
      "source": [
        "first = pd.read_csv('gdp_pop_all.csv', index_col='country')\n",
        "criteria = first['continent'] == 'Americas'\n",
        "second = first[criteria]\n",
        "third = second.drop('Puerto Rico')\n",
        "fourth = third.drop('continent', axis = 1)\n",
        "fourth.to_csv('result.csv')\n",
        "fourth.to_excel('result.xlsx')"
      ],
      "execution_count": null,
      "outputs": []
    },
    {
      "cell_type": "code",
      "metadata": {
        "id": "0f--n4Fdd8ka"
      },
      "source": [],
      "execution_count": null,
      "outputs": []
    },
    {
      "cell_type": "markdown",
      "metadata": {
        "id": "WxYiJKtdd8kb"
      },
      "source": [
        "## Inserting data\n",
        "\n",
        "Inserting column data into your DataFrames is straightforward. Just add it in:"
      ]
    },
    {
      "cell_type": "code",
      "metadata": {
        "id": "SaETstYid8kn"
      },
      "source": [],
      "execution_count": null,
      "outputs": []
    },
    {
      "cell_type": "markdown",
      "metadata": {
        "id": "51I_NAAV9h39"
      },
      "source": [
        "What about adding rows onto your DataFrame?"
      ]
    },
    {
      "cell_type": "code",
      "metadata": {
        "id": "Ya9FFcaBd8kr"
      },
      "source": [
        "#Some starter code:\n",
        "df = pd.read_csv(\"gdp_asia.csv\", index_col=\"country\")\n",
        "rows = ['Singapore','Malaysia']\n",
        "cols = ['gdpPercap_1952','gdpPercap_1957']\n",
        "subset1 = df.loc[rows,cols]\n",
        "\n",
        "rows = ['Thailand','Indonesia']\n",
        "cols = ['gdpPercap_1952','gdpPercap_1957']\n",
        "subset2 = df.loc[rows,cols]\n",
        "\n",
        "rows = ['Thailand','Indonesia']\n",
        "cols = ['gdpPercap_1952','gdpPercap_2007']\n",
        "subset3 = df.loc[rows,cols]"
      ],
      "execution_count": null,
      "outputs": []
    },
    {
      "cell_type": "code",
      "metadata": {
        "id": "Lk2X0VYqd8kt"
      },
      "source": [],
      "execution_count": null,
      "outputs": []
    },
    {
      "cell_type": "code",
      "metadata": {
        "id": "CbT8ohrtd8kv"
      },
      "source": [],
      "execution_count": null,
      "outputs": []
    },
    {
      "cell_type": "code",
      "metadata": {
        "id": "z1Iv-KIHd8k3"
      },
      "source": [],
      "execution_count": null,
      "outputs": []
    },
    {
      "cell_type": "markdown",
      "metadata": {
        "id": "HwBJZQj6d8k6"
      },
      "source": [
        "### Merging Dataframes"
      ]
    },
    {
      "cell_type": "code",
      "metadata": {
        "id": "nGsdzfJKd8k6"
      },
      "source": [
        "# Some starter code:\n",
        "subset1 = data.loc[\"Afghanistan\":\"China\", \"gdpPercap_1952\":\"gdpPercap_1957\"]\n",
        "subset2 = data.loc[\"Afghanistan\":\"China\", \"gdpPercap_2002\":\"gdpPercap_2007\"]"
      ],
      "execution_count": null,
      "outputs": []
    },
    {
      "cell_type": "code",
      "metadata": {
        "id": "RnfZ2vGyd8k9"
      },
      "source": [],
      "execution_count": null,
      "outputs": []
    },
    {
      "cell_type": "code",
      "metadata": {
        "id": "F_505zMXd8k_"
      },
      "source": [],
      "execution_count": null,
      "outputs": []
    },
    {
      "cell_type": "code",
      "metadata": {
        "id": "qdGghP4Xd8lE"
      },
      "source": [],
      "execution_count": null,
      "outputs": []
    },
    {
      "cell_type": "code",
      "metadata": {
        "id": "WyJeSXPhd8lH"
      },
      "source": [],
      "execution_count": null,
      "outputs": []
    },
    {
      "cell_type": "markdown",
      "metadata": {
        "id": "Nc0GzeJtd8lI"
      },
      "source": [
        "### <font color=\"red\">Exercise 5: European data analysis</font>\n",
        "\n",
        "Import the GDP data for Europe. Write an expression to select each of the following:\n",
        "\n",
        "* GDP per capita for all countries in 1982.\n",
        "* GDP per capita for Denmark for all years.\n",
        "* GDP per capita for all countries for years after 1985.\n",
        "* GDP per capita for each country in 2007 as a multiple of GDP per capita for that country in 1952. Show a DataFrame with 1952, 2007, and \"2007 vs. 1952\", for example:"
      ]
    },
    {
      "cell_type": "markdown",
      "metadata": {
        "id": "HqBPrBOad8lJ"
      },
      "source": [
        "|                        | gdpPercap_1952 | gdpPercap_2007  | 2007/1952 |\n",
        "| ---------------------- | -------------- | --------------  | --------- |\n",
        "| Albania                | 1601.056136    | 5937.029526     | 3.708196  |\n",
        "| Austria                | 6137.076492    | 36126.492700    | 5.886596  |\n",
        "| Belgium                | 8343.105127    | 33692.605080    | 4.038377  |\n",
        "| Bosnia and Herzegovina | 973.533195     | 7446.298803     | 7.648736  |\n",
        "| Bulgaria               | 2444.286648    | 10680.792820    | 4.369697  |"
      ]
    },
    {
      "cell_type": "code",
      "metadata": {
        "id": "4UWFSdPrd8lJ"
      },
      "source": [
        "data = pd.read_csv('gdp_europe.csv', index_col='country')"
      ],
      "execution_count": null,
      "outputs": []
    },
    {
      "cell_type": "code",
      "metadata": {
        "id": "ypUB-bc5d8lK"
      },
      "source": [],
      "execution_count": null,
      "outputs": []
    },
    {
      "cell_type": "code",
      "metadata": {
        "id": "AOKPCMlfd8lL"
      },
      "source": [],
      "execution_count": null,
      "outputs": []
    },
    {
      "cell_type": "code",
      "metadata": {
        "id": "6ZbWz8Rwd8lM"
      },
      "source": [],
      "execution_count": null,
      "outputs": []
    },
    {
      "cell_type": "code",
      "metadata": {
        "id": "Q6KCwkEsd8lj"
      },
      "source": [],
      "execution_count": null,
      "outputs": []
    }
  ]
}