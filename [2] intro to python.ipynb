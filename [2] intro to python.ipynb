{
  "cells": [
    {
      "cell_type": "markdown",
      "metadata": {
        "id": "oOZN4Hrn3PdY"
      },
      "source": [
        "# Intro to Python\n",
        "\n",
        "In this notebook, we'll do some very basic Python to get you warmed up with programming. Experienced coders can try the exercises the end of each section, or if you already know intro Python, move ahead to the next notebook."
      ]
    },
    {
      "cell_type": "markdown",
      "metadata": {
        "id": "vKVen0n53Pda"
      },
      "source": [
        "## Variables\n",
        "\n",
        "Variables are used to store data. In Python, we use `=` to *assign* data from the right item, to the variable name in the left item. For example:"
      ]
    },
    {
      "cell_type": "code",
      "execution_count": 1,
      "metadata": {
        "collapsed": true,
        "id": "9-XxRDrw3Pdc"
      },
      "outputs": [
        {
          "name": "stdout",
          "output_type": "stream",
          "text": [
            "1\n"
          ]
        }
      ],
      "source": [
        "hi = 1\n",
        "print(hi)"
      ]
    },
    {
      "cell_type": "markdown",
      "metadata": {
        "id": "xR3VPqlU3Pdc"
      },
      "source": [
        "Start your variables with letters--you can't use numbers, so `3banana` is not a valid variable name. For variables with many words, use underscores: `three_banana` or camel case: `threeBanana`."
      ]
    },
    {
      "cell_type": "markdown",
      "metadata": {
        "id": "i2QysUe43Pdd"
      },
      "source": [
        "## Printing\n",
        "\n",
        "Use `print` to send information from your code to the results bar, underneath the cell."
      ]
    },
    {
      "cell_type": "code",
      "execution_count": 2,
      "metadata": {
        "id": "mD94tiin3Pdd"
      },
      "outputs": [
        {
          "name": "stdout",
          "output_type": "stream",
          "text": [
            "1\n"
          ]
        }
      ],
      "source": [
        "print(hi) #retains info from previous cells"
      ]
    },
    {
      "cell_type": "code",
      "execution_count": null,
      "metadata": {
        "id": "soBKiE8l3Pde"
      },
      "outputs": [],
      "source": []
    },
    {
      "cell_type": "code",
      "execution_count": null,
      "metadata": {
        "id": "fbB5SMJo3Pdf"
      },
      "outputs": [],
      "source": []
    },
    {
      "cell_type": "markdown",
      "metadata": {
        "id": "K1LMEOql3Pdf"
      },
      "source": [
        "## Operators\n",
        "\n",
        "You can do math in Python! It's like a really expensive (and clunky) calculator."
      ]
    },
    {
      "cell_type": "code",
      "execution_count": 3,
      "metadata": {
        "id": "4DXZBy5u3Pdg"
      },
      "outputs": [
        {
          "name": "stdout",
          "output_type": "stream",
          "text": [
            "2\n"
          ]
        }
      ],
      "source": [
        "print(1+1)"
      ]
    },
    {
      "cell_type": "code",
      "execution_count": 4,
      "metadata": {
        "id": "ghI3T7JQ3Pdg"
      },
      "outputs": [
        {
          "name": "stdout",
          "output_type": "stream",
          "text": [
            "0\n"
          ]
        }
      ],
      "source": [
        "print(1-1)"
      ]
    },
    {
      "cell_type": "code",
      "execution_count": 5,
      "metadata": {
        "id": "pQBlVWSP3Pdh"
      },
      "outputs": [
        {
          "name": "stdout",
          "output_type": "stream",
          "text": [
            "6\n"
          ]
        }
      ],
      "source": [
        "print(2*3)"
      ]
    },
    {
      "cell_type": "code",
      "execution_count": 6,
      "metadata": {
        "id": "Xdt9eXqq3Pdh"
      },
      "outputs": [
        {
          "name": "stdout",
          "output_type": "stream",
          "text": [
            "2.0\n"
          ]
        }
      ],
      "source": [
        "print(4/2)"
      ]
    },
    {
      "cell_type": "code",
      "execution_count": 7,
      "metadata": {
        "id": "ZhVtQ9z93Pdh"
      },
      "outputs": [
        {
          "name": "stdout",
          "output_type": "stream",
          "text": [
            "1\n"
          ]
        }
      ],
      "source": [
        "print(7%2)"
      ]
    },
    {
      "cell_type": "markdown",
      "metadata": {
        "id": "PwK-NK2n3Pdj"
      },
      "source": [
        "## Types\n",
        "\n",
        "Variables have **types**, of which you've seen three: **int**s (integers, whole numbers), **float**s (decimal numbers), and **str**s (strings of text, with inverted commas around them--single or double inverted commas are fine, as long as you're consistent)."
      ]
    },
    {
      "cell_type": "code",
      "execution_count": null,
      "metadata": {
        "collapsed": true,
        "id": "QJTv9Wxf3Pdj"
      },
      "outputs": [],
      "source": [
        "#ehhh im bored"
      ]
    },
    {
      "cell_type": "code",
      "execution_count": null,
      "metadata": {
        "collapsed": true,
        "id": "Nb0hypfW3Pdj"
      },
      "outputs": [],
      "source": []
    },
    {
      "cell_type": "code",
      "execution_count": null,
      "metadata": {
        "collapsed": true,
        "id": "KsFRpQh93Pdj"
      },
      "outputs": [],
      "source": []
    },
    {
      "cell_type": "markdown",
      "metadata": {
        "id": "QydUtsiZ3Pdk"
      },
      "source": [
        "### <font color=\"red\">Exercise 1A: More operators</font>\n",
        "\n",
        "Why stop at four when we have more? Try to `print` these out, and write comments (with `#` in front) to say what they do."
      ]
    },
    {
      "cell_type": "code",
      "execution_count": 11,
      "metadata": {
        "collapsed": true,
        "id": "UpB7bFdP3Pdk"
      },
      "outputs": [
        {
          "name": "stdout",
          "output_type": "stream",
          "text": [
            "a 5 to the power of 2\n",
            "27\n",
            "1024\n",
            "d quotient when dividing\n",
            "0\n",
            "4\n",
            "3\n",
            "h modulus- basically the remainder when dividing\n"
          ]
        },
        {
          "ename": "NameError",
          "evalue": "name 'i' is not defined",
          "output_type": "error",
          "traceback": [
            "\u001b[0;31m---------------------------------------------------------------------------\u001b[0m",
            "\u001b[0;31mNameError\u001b[0m                                 Traceback (most recent call last)",
            "Cell \u001b[0;32mIn[11], line 22\u001b[0m\n\u001b[1;32m     20\u001b[0m \u001b[38;5;28mprint\u001b[39m(g)\n\u001b[1;32m     21\u001b[0m \u001b[38;5;28mprint\u001b[39m(\u001b[38;5;124m\"\u001b[39m\u001b[38;5;124mh\u001b[39m\u001b[38;5;124m\"\u001b[39m \u001b[38;5;241m+\u001b[39m \u001b[38;5;124m\"\u001b[39m\u001b[38;5;124m modulus- basically the remainder when dividing\u001b[39m\u001b[38;5;124m\"\u001b[39m)\n\u001b[0;32m---> 22\u001b[0m \u001b[38;5;28mprint\u001b[39m(\u001b[43mi\u001b[49m)\n\u001b[1;32m     23\u001b[0m \u001b[38;5;28mprint\u001b[39m(j)\n\u001b[1;32m     24\u001b[0m \u001b[38;5;28mprint\u001b[39m(k)\n",
            "\u001b[0;31mNameError\u001b[0m: name 'i' is not defined"
          ]
        }
      ],
      "source": [
        "a = 5 ** 2\n",
        "b = 3 ** 3\n",
        "c = 4 ** 5\n",
        "d = 15 // 12\n",
        "e = 12 // 15\n",
        "f = 200 // 50\n",
        "g = 200 // 51\n",
        "h = 6 % 2\n",
        "i_need_better_variable_names = 5 % 2\n",
        "j = 9 % 5\n",
        "k = 6 % 6\n",
        "l = 0 % 7\n",
        "\n",
        "print(\"a\" + \" 5 to the power of 2\")\n",
        "print(b)\n",
        "print(c)\n",
        "print(\"d\" + \" quotient when dividing\")\n",
        "print(e)\n",
        "print(f)\n",
        "print(g)\n",
        "print(\"h\" + \" modulus- basically the remainder when dividing\")\n",
        "print(i)\n",
        "print(j)\n",
        "print(k)\n",
        "print(l)"
      ]
    },
    {
      "cell_type": "markdown",
      "metadata": {
        "id": "2qiMKL_j3Pdl"
      },
      "source": [
        "### <font color=\"red\">Exercise 1B: Calculate and print</font>\n",
        "\n",
        "What if I want to calculate the age of someone who's 3x my age?\n",
        "\n",
        "Edit the variables below, and print: \"3 times my age is 108\"."
      ]
    },
    {
      "cell_type": "code",
      "execution_count": null,
      "metadata": {
        "id": "KYWsGOsr3Pdl"
      },
      "outputs": [],
      "source": [
        "age=99  #CHANGE ME\n",
        "n=5001  #CHANGE ME\n",
        "print(n,\"times my age is\",age) #this line needs fixing! FIXME!"
      ]
    },
    {
      "cell_type": "markdown",
      "metadata": {
        "id": "2DluZyOE3Pdl"
      },
      "source": [
        "### <font color=\"red\">Exercise 1C: Seconds in a year</font>\n",
        "\n",
        "Let's use Python as a glorified calculator again. Below is some code to help you get started--can you figure out how many seconds there are in a year?"
      ]
    },
    {
      "cell_type": "code",
      "execution_count": 12,
      "metadata": {
        "id": "L34Ij5jm3Pdm"
      },
      "outputs": [
        {
          "name": "stdout",
          "output_type": "stream",
          "text": [
            "The number of seconds in a year is 31536000\n"
          ]
        }
      ],
      "source": [
        "num_seconds_in_minute = 60\n",
        "num_minutes_in_hour = 60 # FIXME\n",
        "num_hours_in_day = 24 \n",
        "num_days_in_year = 365 \n",
        "total = num_seconds_in_minute *  num_minutes_in_hour  * num_hours_in_day * num_days_in_year\n",
        "print(\"The number of seconds in a year is\",total)"
      ]
    },
    {
      "cell_type": "markdown",
      "metadata": {
        "id": "GFHZvnTy3Pdm"
      },
      "source": [
        "### <font color=\"red\">Exercise 1D: Pixels</font>\n",
        "\n",
        "You are given the width and height of a screen in pixels. Calculate the total number of pixels on the screen and store them in a variable called `numberOfPixels`."
      ]
    },
    {
      "cell_type": "code",
      "execution_count": 14,
      "metadata": {
        "id": "v102g90M3Pdm"
      },
      "outputs": [
        {
          "name": "stdout",
          "output_type": "stream",
          "text": [
            "For a screen with height 1920 pixels\n",
            "And width 1080 pixels\n",
            "The total number of pixels is 2073600\n"
          ]
        }
      ],
      "source": [
        "height = 1920\n",
        "width = 1080\n",
        "\n",
        "# Your code here\n",
        "numberOfPixels = height * width\n",
        "\n",
        "# Some code to print out the results\n",
        "print(\"For a screen with height\", height, \"pixels\")\n",
        "print(\"And width\", width, \"pixels\")\n",
        "print(\"The total number of pixels is\", numberOfPixels)"
      ]
    },
    {
      "cell_type": "markdown",
      "metadata": {
        "id": "efl8c6qv3Pdn"
      },
      "source": [
        "### <font color=\"red\">Exercise 1E: Boys and girls</font>\n",
        "\n",
        "Calculate the percentage of boys (`percentBoys`) and the percentage of girls (`percentGirls`) in a class, and print it out."
      ]
    },
    {
      "cell_type": "code",
      "execution_count": 18,
      "metadata": {
        "collapsed": true,
        "id": "6mzwDemf3Pdn"
      },
      "outputs": [
        {
          "name": "stdout",
          "output_type": "stream",
          "text": [
            "the class has 75.0% boys and 25.0% girls.\n"
          ]
        }
      ],
      "source": [
        "numberOfBoys = 60\n",
        "numberOfGirls = 20\n",
        "\n",
        "# Your code here\n",
        "percentBoys = (numberOfBoys / (numberOfBoys + numberOfGirls)) * 100\n",
        "percentGirls = (numberOfGirls / (numberOfBoys + numberOfGirls)) * 100\n",
        "\n",
        "print(\"the class has \" + str(percentBoys) + \"% boys and \" + str(percentGirls) + \"% girls.\")"
      ]
    },
    {
      "cell_type": "markdown",
      "metadata": {
        "id": "yqqJR_rG3Pdo"
      },
      "source": [
        "<hr>"
      ]
    },
    {
      "cell_type": "markdown",
      "metadata": {
        "id": "1Ra6dySn3Pdo"
      },
      "source": [
        "## Functions"
      ]
    },
    {
      "cell_type": "markdown",
      "metadata": {
        "id": "ceMXNokR3Pdp"
      },
      "source": [
        "A function is a piece of reusable code that lets you run it again and again, but possibly with different parameters. Try running this function below with some different parameters:"
      ]
    },
    {
      "cell_type": "code",
      "execution_count": null,
      "metadata": {
        "collapsed": true,
        "id": "69MCqL5c3Pdp"
      },
      "outputs": [],
      "source": []
    },
    {
      "cell_type": "code",
      "execution_count": null,
      "metadata": {
        "id": "keDqzvrn3Pdp"
      },
      "outputs": [],
      "source": []
    },
    {
      "cell_type": "code",
      "execution_count": null,
      "metadata": {
        "id": "mkyH1wJ63Pdp"
      },
      "outputs": [],
      "source": []
    },
    {
      "cell_type": "markdown",
      "metadata": {
        "collapsed": false,
        "id": "qw3Hzzwc3Pdp"
      },
      "source": [
        "There are some useful built-in functions, too! You've been using `print`, a function that prints things out. Let's now use it to print the results of other functions:"
      ]
    },
    {
      "cell_type": "code",
      "execution_count": null,
      "metadata": {
        "id": "MjlySfX93Pdp"
      },
      "outputs": [],
      "source": []
    },
    {
      "cell_type": "code",
      "execution_count": null,
      "metadata": {
        "id": "L9IGcZ8q3Pdq"
      },
      "outputs": [],
      "source": []
    },
    {
      "cell_type": "code",
      "execution_count": null,
      "metadata": {
        "id": "pmOpIyro3Pdq"
      },
      "outputs": [],
      "source": []
    },
    {
      "cell_type": "code",
      "execution_count": null,
      "metadata": {
        "id": "8wy47rvp3Pdr"
      },
      "outputs": [],
      "source": []
    },
    {
      "cell_type": "code",
      "execution_count": null,
      "metadata": {
        "id": "h81Lb9bA3Pdr"
      },
      "outputs": [],
      "source": []
    },
    {
      "cell_type": "code",
      "execution_count": null,
      "metadata": {
        "collapsed": true,
        "id": "GWnn4ozJ3Pdr"
      },
      "outputs": [],
      "source": []
    },
    {
      "cell_type": "markdown",
      "metadata": {
        "id": "jALHnYH03Pdr"
      },
      "source": [
        "Some functions are in _modules_, e.g. the `math` module. To get started, you have to first `import math`, then try the functions within. Here is some gratuitious trigonometry:"
      ]
    },
    {
      "cell_type": "code",
      "execution_count": null,
      "metadata": {
        "collapsed": true,
        "id": "TsKmH1jg3Pdr"
      },
      "outputs": [],
      "source": []
    },
    {
      "cell_type": "code",
      "execution_count": null,
      "metadata": {
        "id": "XKyfqiKB3Pds"
      },
      "outputs": [],
      "source": []
    },
    {
      "cell_type": "code",
      "execution_count": null,
      "metadata": {
        "id": "hHJJf-PQ3Pds"
      },
      "outputs": [],
      "source": []
    },
    {
      "cell_type": "code",
      "execution_count": null,
      "metadata": {
        "id": "CviaiiFQ3Pds"
      },
      "outputs": [],
      "source": []
    },
    {
      "cell_type": "code",
      "execution_count": null,
      "metadata": {
        "id": "9SfWhZrX3Pds"
      },
      "outputs": [],
      "source": []
    },
    {
      "cell_type": "markdown",
      "metadata": {
        "id": "4J-vAVhF3Pds"
      },
      "source": [
        "### <font color=\"red\">Exercise 2A: Errors</font>\n",
        "\n",
        "If you make a typo, Python will give you an error. Some may look cryptic, but you can try to figure out what they're telling you based on the line of the error. Try running the below, and identifying the errors in the code."
      ]
    },
    {
      "cell_type": "code",
      "execution_count": null,
      "metadata": {
        "id": "vMYHv4943Pds"
      },
      "outputs": [],
      "source": [
        "name = \"Banana\""
      ]
    },
    {
      "cell_type": "code",
      "execution_count": null,
      "metadata": {
        "id": "pRvJJaQt3Pdt"
      },
      "outputs": [],
      "source": [
        "age = 55\n",
        "weeksPerYear = 52\n",
        "weeks_lived = age * weeksPerYear"
      ]
    },
    {
      "cell_type": "code",
      "execution_count": null,
      "metadata": {
        "id": "cUTqni9p3Pdt"
      },
      "outputs": [],
      "source": [
        "print(\"Hello\")"
      ]
    },
    {
      "cell_type": "markdown",
      "metadata": {
        "id": "3q-TMfGK3Pdu"
      },
      "source": [
        "### <font color=\"red\">Exercise 2B: Cube</font>\n",
        "\n",
        "Write a function, `cube(n)`, that takes in a number, `n`, and prints out the cubed result."
      ]
    },
    {
      "cell_type": "code",
      "execution_count": 19,
      "metadata": {
        "id": "AzoI8Ps03Pdu"
      },
      "outputs": [
        {
          "name": "stdout",
          "output_type": "stream",
          "text": [
            "The result is 27\n"
          ]
        }
      ],
      "source": [
        "def cube(n):\n",
        "    result = n ** 3 # FIXME\n",
        "    print(\"The result is\", result)\n",
        "\n",
        "cube(3) # this line is to test your code"
      ]
    },
    {
      "cell_type": "markdown",
      "metadata": {
        "id": "TqjVttyzdzx7"
      },
      "source": [
        "### <font color=\"red\">Exercise 2C: Using functions</font>\n",
        "\n",
        "Before running the code below, try predicting what each `print` statement will tell you. Can you explain what's going on with the `max` function call, between `rich` and `poor`?"
      ]
    },
    {
      "cell_type": "code",
      "execution_count": 24,
      "metadata": {
        "colab": {
          "base_uri": "https://localhost:8080/",
          "height": 36
        },
        "id": "kPpWE-0fdzx-",
        "outputId": "20808d87-9245-4517-f56a-96514d531d89"
      },
      "outputs": [
        {
          "data": {
            "text/plain": [
              "'tin'"
            ]
          },
          "execution_count": 24,
          "metadata": {},
          "output_type": "execute_result"
        }
      ],
      "source": [
        "rich = \"gold\"\n",
        "poor = \"tin\"\n",
        "max(rich, poor)"
      ]
    },
    {
      "cell_type": "code",
      "execution_count": null,
      "metadata": {
        "collapsed": true,
        "id": "yQmq2ASo3Pdv"
      },
      "outputs": [],
      "source": []
    },
    {
      "cell_type": "markdown",
      "metadata": {
        "id": "HwW0oKcW3Pdv"
      },
      "source": [
        "<hr>"
      ]
    },
    {
      "cell_type": "markdown",
      "metadata": {
        "id": "CgOCvp7M3Pdv"
      },
      "source": [
        "## Lists\n",
        "\n",
        "So far, we've stored information in single variables. This would be unwieldy if we're dealing with a lot of data, e.g. weather readings over a year--imagine declaring variables `rainfall1`, `rainfall2`, `rainfall3`, etc.\n",
        "\n",
        "We're going to introduce **lists** here--a way to store multiple pieces of data in one variable. The first list here is a list of pressure values, defined within square brackets `[]`, separated by commas:"
      ]
    },
    {
      "cell_type": "code",
      "execution_count": null,
      "metadata": {
        "collapsed": true,
        "id": "ayJu8vYC3Pdw"
      },
      "outputs": [],
      "source": []
    },
    {
      "cell_type": "code",
      "execution_count": null,
      "metadata": {
        "id": "hRk-0EVx3Pdw"
      },
      "outputs": [],
      "source": []
    },
    {
      "cell_type": "code",
      "execution_count": null,
      "metadata": {
        "id": "sL6096cd3Pdw"
      },
      "outputs": [],
      "source": []
    },
    {
      "cell_type": "markdown",
      "metadata": {
        "id": "NAtT4dz43Pdx"
      },
      "source": [
        "You can also access individual elements in a list, by using the **square bracket notation** -- add a square bracket after your variable name, then have a number in it with the **index** of the element you want to access. Computer scientists count from 0, so if you want the first item, it's at index 0; second item is at index 1."
      ]
    },
    {
      "cell_type": "code",
      "execution_count": 27,
      "metadata": {
        "id": "xfSLeOVY3Pdx"
      },
      "outputs": [
        {
          "name": "stdout",
          "output_type": "stream",
          "text": [
            "ryan\n"
          ]
        }
      ],
      "source": [
        "hi = [\"zane\", \"justin\", \"ryan\"]\n",
        "print(hi[2])"
      ]
    },
    {
      "cell_type": "code",
      "execution_count": null,
      "metadata": {
        "id": "bi_CIG1k3Pdx"
      },
      "outputs": [],
      "source": []
    },
    {
      "cell_type": "code",
      "execution_count": null,
      "metadata": {
        "id": "jhv4Zcm63Pdx"
      },
      "outputs": [],
      "source": []
    },
    {
      "cell_type": "markdown",
      "metadata": {
        "id": "Fntrk_fx3Pdx"
      },
      "source": [
        "There are some list functions you can use. How do you find out about them? [Search](https://encrypted.google.com/search?q=python+list+functions)!"
      ]
    },
    {
      "cell_type": "code",
      "execution_count": null,
      "metadata": {
        "collapsed": true,
        "id": "tQiJVDi73Pdx"
      },
      "outputs": [],
      "source": []
    },
    {
      "cell_type": "code",
      "execution_count": null,
      "metadata": {
        "id": "iAGRYlL83Pdx"
      },
      "outputs": [],
      "source": []
    },
    {
      "cell_type": "code",
      "execution_count": null,
      "metadata": {
        "id": "4suH-RcD3Pdx"
      },
      "outputs": [],
      "source": []
    },
    {
      "cell_type": "code",
      "execution_count": null,
      "metadata": {
        "id": "wUHkLXOP3Pdx"
      },
      "outputs": [],
      "source": []
    },
    {
      "cell_type": "markdown",
      "metadata": {
        "collapsed": false,
        "id": "feWBdjYp3Pdy"
      },
      "source": [
        "Here's something you can do with lists: **slice** them using the slice operator, a colon. Instead of providing a single number in the index, get back part of the list by providing a range of numbers, for example:"
      ]
    },
    {
      "cell_type": "code",
      "execution_count": 33,
      "metadata": {
        "id": "oateFSxp3Pdy"
      },
      "outputs": [
        {
          "name": "stdout",
          "output_type": "stream",
          "text": [
            "['justin', 'ryan']\n"
          ]
        }
      ],
      "source": [
        "hi = [\"zane\", \"justin\", \"ryan\"]\n",
        "print(hi[1:3])"
      ]
    },
    {
      "cell_type": "markdown",
      "metadata": {
        "id": "dWKi8v243Pdy"
      },
      "source": [
        "### <font color=\"red\">Exercise 3A: I got a list, here's the order of my list that it's in</font>\n",
        "\n",
        "Here's a list. Can you do the following manipulations to it?\n",
        "\n",
        "* Append “apple” and 76 to the list.\n",
        "* Insert the value “cat” at index 3.\n",
        "* Insert the value 99 at the start of the list.\n",
        "* Find the index of “hello”.\n",
        "* Count the number of 76s in the list.\n",
        "* Remove the first occurrence of 76 from the list.\n",
        "\n",
        "Print out your final list to check your answer."
      ]
    },
    {
      "cell_type": "code",
      "execution_count": 82,
      "metadata": {
        "collapsed": true,
        "id": "rlnGw74T3Pdy"
      },
      "outputs": [
        {
          "name": "stdout",
          "output_type": "stream",
          "text": [
            "3\n",
            "3\n",
            "[99, 92.3, 'hello', 'cat', True, 4, 76, 'apple', 76]\n"
          ]
        }
      ],
      "source": [
        "myList = [76, 92.3, 'hello', True, 4, 76]\n",
        "# Space for your working here\n",
        "myList.append(\"apple\")\n",
        "myList.append(76)\n",
        "myList.insert(3, \"cat\")\n",
        "myList.insert(0, 99)\n",
        "print(myList.index(\"hello\"))\n",
        "\n",
        "number = 0\n",
        "for i in myList:\n",
        "    if i == 76:\n",
        "        number += 1\n",
        "print(number)\n",
        "\n",
        "myList.remove(76)\n",
        "\n",
        "print(myList)"
      ]
    },
    {
      "cell_type": "code",
      "execution_count": null,
      "metadata": {
        "collapsed": true,
        "id": "gYEli8-53Pdy"
      },
      "outputs": [],
      "source": [
        "\n"
      ]
    },
    {
      "cell_type": "markdown",
      "metadata": {
        "id": "y2Di17T63Pdz"
      },
      "source": [
        "### <font color=\"red\">Exercise 3B: Fill in the blanks</font>\n",
        "\n",
        "Fill in the blanks so that the program below produces the output shown:\n",
        "```\n",
        "first time: [1, 3, 5]\n",
        "second time: [3, 5]\n",
        "```"
      ]
    },
    {
      "cell_type": "code",
      "execution_count": 83,
      "metadata": {
        "collapsed": true,
        "id": "wGNCWb0v3Pdz"
      },
      "outputs": [
        {
          "name": "stdout",
          "output_type": "stream",
          "text": [
            "first time: [1, 3, 5]\n",
            "second time: [3, 5]\n"
          ]
        }
      ],
      "source": [
        "values = []\n",
        "values.append(1)  #hint: we need to add values to the list somehow!\n",
        "values.append(3)\n",
        "values.append(5)\n",
        "print('first time:', values)\n",
        "values = values[1:3]  #hint: use list slicing!\n",
        "print('second time:', values)"
      ]
    },
    {
      "cell_type": "markdown",
      "metadata": {
        "id": "s7SK8Hy13Pdz"
      },
      "source": [
        "<hr>"
      ]
    },
    {
      "cell_type": "markdown",
      "metadata": {
        "id": "KHaIzPrf3Pd0"
      },
      "source": [
        "## Loops\n",
        "\n",
        "Now that we have lists, we want to be able to work on the data within them at one swoop, i.e. not have to edit `item[0]`, `item[1]`, `item[2]` one by one. For this, we can use a loop.\n",
        "\n",
        "A loop starts with `for`, ends with a colon, and subsequent lines are indented:"
      ]
    },
    {
      "cell_type": "code",
      "execution_count": null,
      "metadata": {
        "id": "nhW0xSfT3Pd0"
      },
      "outputs": [],
      "source": []
    },
    {
      "cell_type": "code",
      "execution_count": null,
      "metadata": {
        "id": "gkBLnYoR3Pd1"
      },
      "outputs": [],
      "source": []
    },
    {
      "cell_type": "code",
      "execution_count": null,
      "metadata": {
        "id": "CpAClRFz3Pd1"
      },
      "outputs": [],
      "source": []
    },
    {
      "cell_type": "code",
      "execution_count": null,
      "metadata": {
        "id": "M1lx44E73Pd1"
      },
      "outputs": [],
      "source": []
    },
    {
      "cell_type": "code",
      "execution_count": null,
      "metadata": {
        "id": "IuZtiIhn3Pd1"
      },
      "outputs": [],
      "source": []
    },
    {
      "cell_type": "code",
      "execution_count": null,
      "metadata": {
        "id": "cUCr9I5l3Pd1"
      },
      "outputs": [],
      "source": []
    },
    {
      "cell_type": "markdown",
      "metadata": {
        "id": "eXaFEyVx3Pd1"
      },
      "source": [
        "### <font color=\"red\">Exercise 4A: Multiply everything</font>\n",
        "\n",
        "Given a list of values, print out 2x of everything. E.g. [1, 2, 3] will print out:\n",
        "```\n",
        "2\n",
        "4\n",
        "6\n",
        "```"
      ]
    },
    {
      "cell_type": "code",
      "execution_count": 89,
      "metadata": {
        "id": "yPNT9bgt3Pd2"
      },
      "outputs": [
        {
          "name": "stdout",
          "output_type": "stream",
          "text": [
            "2\n",
            "4\n",
            "6\n",
            "8\n"
          ]
        }
      ],
      "source": [
        "values = [1,2,3,4]\n",
        "\n",
        "for i in values:\n",
        "    print(i*2)"
      ]
    },
    {
      "cell_type": "markdown",
      "metadata": {
        "id": "nZu_WsJ13Pd2"
      },
      "source": [
        "### <font color=\"red\">Exercise 4B: Square everything</font>\n",
        "\n",
        "Given a list of values, print out the square of everything. E.g. [1, 2, 3] will print out:\n",
        "```\n",
        "1\n",
        "4\n",
        "9\n",
        "```"
      ]
    },
    {
      "cell_type": "code",
      "execution_count": 94,
      "metadata": {
        "collapsed": true,
        "id": "ELnr7GNi3Pd3"
      },
      "outputs": [
        {
          "name": "stdout",
          "output_type": "stream",
          "text": [
            "1\n",
            "4\n",
            "9\n",
            "16\n"
          ]
        }
      ],
      "source": [
        "values = [1,2,3,4]\n",
        "for i in values:\n",
        "    print(i**2) #FIXME"
      ]
    },
    {
      "cell_type": "markdown",
      "metadata": {
        "id": "W02osUiK3Pd3"
      },
      "source": [
        "### <font color=\"red\">Exercise 4C: Print this Christmas tree using a loop</font>"
      ]
    },
    {
      "cell_type": "raw",
      "metadata": {
        "id": "DcuFZrqA3Pd3"
      },
      "source": [
        "Your code should print out the following result:\n",
        "```\n",
        "*\n",
        "**\n",
        "***\n",
        "****\n",
        "```"
      ]
    },
    {
      "cell_type": "code",
      "execution_count": 107,
      "metadata": {
        "id": "oGxnuWDH3Pd4"
      },
      "outputs": [
        {
          "name": "stdout",
          "output_type": "stream",
          "text": [
            "*\n",
            "**\n",
            "***\n",
            "****\n"
          ]
        }
      ],
      "source": [
        "# some starter code\n",
        "for i in range(4):\n",
        "    print(\"*\" * (i+1))"
      ]
    },
    {
      "cell_type": "markdown",
      "metadata": {
        "id": "gnPdcNzw3Pd4"
      },
      "source": [
        "<hr>"
      ]
    },
    {
      "cell_type": "markdown",
      "metadata": {
        "id": "kfDTugLA3Pd4"
      },
      "source": [
        "## Conditionals\n",
        "\n",
        "To have Python make decisions for us, we use `if` statements. These control whether blocks of code are run or not. Structurally, they're similar to `for` loops; you start with an `if`, end with a colon, and indent the block of code you want to run conditionally:"
      ]
    },
    {
      "cell_type": "code",
      "execution_count": null,
      "metadata": {
        "id": "67LFgbnC3Pd5"
      },
      "outputs": [],
      "source": []
    },
    {
      "cell_type": "code",
      "execution_count": null,
      "metadata": {
        "id": "qQiypBFG3Pd6"
      },
      "outputs": [],
      "source": []
    },
    {
      "cell_type": "markdown",
      "metadata": {
        "id": "xZUf5I193Pd6"
      },
      "source": [
        "That seemed rather pointless, because we _knew_ what the values were before we ran the loop. Conditionals become more useful when dealing with data we don't define ourselves, e.g. when the data comes in a list:"
      ]
    },
    {
      "cell_type": "code",
      "execution_count": null,
      "metadata": {
        "id": "ZNiU1tcQ3Pd6"
      },
      "outputs": [],
      "source": []
    },
    {
      "cell_type": "markdown",
      "metadata": {
        "id": "wgnYyArJ3Pd6"
      },
      "source": [
        "`else` can be used following an `if`, to specify an alternative course of action:\n"
      ]
    },
    {
      "cell_type": "code",
      "execution_count": null,
      "metadata": {
        "id": "kn5yq74t3Pd6"
      },
      "outputs": [],
      "source": []
    },
    {
      "cell_type": "markdown",
      "metadata": {
        "collapsed": false,
        "id": "lkF_DAE63Pd6"
      },
      "source": [
        "and `elif` can be used to define more conditions:"
      ]
    },
    {
      "cell_type": "code",
      "execution_count": null,
      "metadata": {
        "id": "6w5IrPq13Pd6"
      },
      "outputs": [],
      "source": []
    },
    {
      "cell_type": "markdown",
      "metadata": {
        "id": "loE4QIIt3Pd7"
      },
      "source": [
        "### <font color=\"red\">Exercise 5A: Print this list, but numbered</font>\n",
        "\n",
        "Given a list of values, print them out, but with numbering. E.g.:\n",
        "```\n",
        "Day 1 reading: 0.44\n",
        "Day 2 reading: 0.01\n",
        "Day 3 reading: 0.24\n",
        "```"
      ]
    },
    {
      "cell_type": "markdown",
      "metadata": {
        "id": "9U05oPAZ3Pd7"
      },
      "source": [
        "Note: this first exercise doesn't use conditionals, but the following ones will!"
      ]
    },
    {
      "cell_type": "code",
      "execution_count": 108,
      "metadata": {
        "collapsed": true,
        "id": "YFocfh-23Pd8"
      },
      "outputs": [
        {
          "name": "stdout",
          "output_type": "stream",
          "text": [
            "1 : 0.44\n",
            "2 : 0.01\n",
            "3 : 0.24\n"
          ]
        }
      ],
      "source": [
        "readings = [0.44, 0.01, 0.24]\n",
        "index = 1 # hint!\n",
        "\n",
        "for r in readings:\n",
        "    print(str(readings.index(r) + 1), \":\", r)"
      ]
    },
    {
      "cell_type": "markdown",
      "metadata": {
        "id": "1IcMj-tZ3Pd8"
      },
      "source": [
        "### <font color=\"red\">Exercise 5B: Panic if something is too low</font>\n",
        "\n",
        "Same as above, but insert a huge warning if the value is below 0.1:\n",
        "```\n",
        "Day 1 reading: 0.44\n",
        "Day 2 reading: 0.01 . WHAT! THIS IS TOO LOW!\n",
        "Day 3 reading: 0.24\n",
        "```"
      ]
    },
    {
      "cell_type": "code",
      "execution_count": 109,
      "metadata": {
        "id": "lwU9b8i23Pd8"
      },
      "outputs": [
        {
          "name": "stdout",
          "output_type": "stream",
          "text": [
            "1 : 0.44  \n",
            "2 : 0.01 WHAT! THIS IS TOO LOW!\n",
            "3 : 0.24  \n",
            "4 : 0.02 WHAT! THIS IS TOO LOW!\n"
          ]
        }
      ],
      "source": [
        "readings = [0.44, 0.01, 0.24, 0.02]\n",
        "index = 1 # hint!\n",
        "warning = \" \"\n",
        "\n",
        "for r in readings:\n",
        "    if r < 0.1:\n",
        "        warning = \"WHAT! THIS IS TOO LOW!\"\n",
        "    else:\n",
        "        warning = \" \"\n",
        "    print(str(readings.index(r) + 1), \":\", r, warning)"
      ]
    },
    {
      "cell_type": "markdown",
      "metadata": {
        "collapsed": true,
        "id": "Xn6Jldl83Pd9"
      },
      "source": [
        "<hr>"
      ]
    },
    {
      "cell_type": "markdown",
      "metadata": {
        "collapsed": true,
        "id": "k_5epyhf3Pd9"
      },
      "source": [
        "## Further reading\n",
        "\n",
        "Want to learn more? We recommend the following:\n",
        "\n",
        "* [How to think like a Computer Scientist](https://openbookproject.net/thinkcs/python/english3e/), an interactive online book\n",
        "* [Automate the Boring Stuff with Python](https://automatetheboringstuff.com/), for your lifehacks. Also available on Udemy as video."
      ]
    }
  ],
  "metadata": {
    "colab": {
      "provenance": []
    },
    "kernelspec": {
      "display_name": "Python 3",
      "language": "python",
      "name": "python3"
    },
    "language_info": {
      "codemirror_mode": {
        "name": "ipython",
        "version": 3
      },
      "file_extension": ".py",
      "mimetype": "text/x-python",
      "name": "python",
      "nbconvert_exporter": "python",
      "pygments_lexer": "ipython3",
      "version": "3.12.0"
    }
  },
  "nbformat": 4,
  "nbformat_minor": 0
}
