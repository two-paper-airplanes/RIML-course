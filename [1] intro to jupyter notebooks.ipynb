{
 "cells": [
  {
   "cell_type": "code",
   "execution_count": 2,
   "metadata": {},
   "outputs": [
    {
     "name": "stdout",
     "output_type": "stream",
     "text": [
      "2\n"
     ]
    }
   ],
   "source": [
    "print(1+1)"
   ]
  },
  {
   "cell_type": "markdown",
   "metadata": {},
   "source": [
    "djskhfdjsf im kinda bored\n",
    "oh yes here's the link to the course padlet: https://padlet.com/tinkercademy/2024-ri-data-science-and-machine-learning-course-lb0osj8jfnf51cpw\n",
    "bored bored bored bored bored bored bored bored\n",
    "ooh can i style my markdown text, i think so yeah\n",
    "\n",
    "#### this is a header !!! ####\n",
    "HEHEHEHEHE i can write equations by wrapping it with $$ lol\n",
    "$$ a^2 + b^2 = c^2 $$\n",
    "$$ (a^2 - b^2) = (a+b)(a-b) $$"
   ]
  },
  {
   "cell_type": "code",
   "execution_count": 3,
   "metadata": {},
   "outputs": [
    {
     "name": "stdout",
     "output_type": "stream",
     "text": [
      "hello world\n"
     ]
    }
   ],
   "source": [
    "#wait iw see what the shortcut for running is\n",
    "print(\"hello world\") #it was shift + enter"
   ]
  },
  {
   "cell_type": "code",
   "execution_count": null,
   "metadata": {},
   "outputs": [],
   "source": []
  }
 ],
 "metadata": {
  "kernelspec": {
   "display_name": "Python 3",
   "language": "python",
   "name": "python3"
  },
  "language_info": {
   "codemirror_mode": {
    "name": "ipython",
    "version": 3
   },
   "file_extension": ".py",
   "mimetype": "text/x-python",
   "name": "python",
   "nbconvert_exporter": "python",
   "pygments_lexer": "ipython3",
   "version": "3.12.0"
  }
 },
 "nbformat": 4,
 "nbformat_minor": 2
}
